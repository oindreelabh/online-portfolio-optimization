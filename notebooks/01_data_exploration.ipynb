{
 "cells": [
  {
   "cell_type": "code",
   "id": "initial_id",
   "metadata": {
    "collapsed": true,
    "ExecuteTime": {
     "end_time": "2025-05-24T19:57:23.803746Z",
     "start_time": "2025-05-24T19:57:23.801385Z"
    }
   },
   "source": [
    "import pandas as pd\n",
    "import yfinance as yf"
   ],
   "outputs": [],
   "execution_count": 2
  },
  {
   "metadata": {
    "ExecuteTime": {
     "end_time": "2025-05-24T19:58:19.466203Z",
     "start_time": "2025-05-24T19:58:19.180884Z"
    }
   },
   "cell_type": "code",
   "source": [
    "TICKERS = [\n",
    "    \"AAPL\", \"TSLA\", \"AMZN\", \"MSFT\", \"NVDA\",\n",
    "    \"GME\", \"AMC\", \"META\",\"JPM\", \"SPY\",\n",
    "    \"UNH\", \"C\"\n",
    "]\n",
    "tickers = TICKERS\n",
    "df_multi_index = yf.download(\"C\", period=\"1mo\", interval=\"1d\")"
   ],
   "id": "4508101d7a12e6e9",
   "outputs": [
    {
     "name": "stderr",
     "output_type": "stream",
     "text": [
      "[*********************100%***********************]  1 of 1 completed\n"
     ]
    }
   ],
   "execution_count": 6
  },
  {
   "metadata": {
    "ExecuteTime": {
     "end_time": "2025-05-24T19:58:24.148382Z",
     "start_time": "2025-05-24T19:58:24.139530Z"
    }
   },
   "cell_type": "code",
   "source": "df_multi_index.head()",
   "id": "fa6db6839d097a5e",
   "outputs": [
    {
     "data": {
      "text/plain": [
       "Price           Close       High        Low       Open    Volume\n",
       "Ticker              C          C          C          C         C\n",
       "Date                                                            \n",
       "2025-04-24  67.619278  67.797843  65.258154  65.734349  13672300\n",
       "2025-04-25  67.887138  68.164916  67.222455  67.321661  12253400\n",
       "2025-04-28  67.738327  68.849445  67.232371  68.115317  14304800\n",
       "2025-04-29  68.333565  68.561743  67.430788  67.490309   8862800\n",
       "2025-04-30  67.837532  68.115317  66.190705  66.974439  15756500"
      ],
      "text/html": [
       "<div>\n",
       "<style scoped>\n",
       "    .dataframe tbody tr th:only-of-type {\n",
       "        vertical-align: middle;\n",
       "    }\n",
       "\n",
       "    .dataframe tbody tr th {\n",
       "        vertical-align: top;\n",
       "    }\n",
       "\n",
       "    .dataframe thead tr th {\n",
       "        text-align: left;\n",
       "    }\n",
       "\n",
       "    .dataframe thead tr:last-of-type th {\n",
       "        text-align: right;\n",
       "    }\n",
       "</style>\n",
       "<table border=\"1\" class=\"dataframe\">\n",
       "  <thead>\n",
       "    <tr>\n",
       "      <th>Price</th>\n",
       "      <th>Close</th>\n",
       "      <th>High</th>\n",
       "      <th>Low</th>\n",
       "      <th>Open</th>\n",
       "      <th>Volume</th>\n",
       "    </tr>\n",
       "    <tr>\n",
       "      <th>Ticker</th>\n",
       "      <th>C</th>\n",
       "      <th>C</th>\n",
       "      <th>C</th>\n",
       "      <th>C</th>\n",
       "      <th>C</th>\n",
       "    </tr>\n",
       "    <tr>\n",
       "      <th>Date</th>\n",
       "      <th></th>\n",
       "      <th></th>\n",
       "      <th></th>\n",
       "      <th></th>\n",
       "      <th></th>\n",
       "    </tr>\n",
       "  </thead>\n",
       "  <tbody>\n",
       "    <tr>\n",
       "      <th>2025-04-24</th>\n",
       "      <td>67.619278</td>\n",
       "      <td>67.797843</td>\n",
       "      <td>65.258154</td>\n",
       "      <td>65.734349</td>\n",
       "      <td>13672300</td>\n",
       "    </tr>\n",
       "    <tr>\n",
       "      <th>2025-04-25</th>\n",
       "      <td>67.887138</td>\n",
       "      <td>68.164916</td>\n",
       "      <td>67.222455</td>\n",
       "      <td>67.321661</td>\n",
       "      <td>12253400</td>\n",
       "    </tr>\n",
       "    <tr>\n",
       "      <th>2025-04-28</th>\n",
       "      <td>67.738327</td>\n",
       "      <td>68.849445</td>\n",
       "      <td>67.232371</td>\n",
       "      <td>68.115317</td>\n",
       "      <td>14304800</td>\n",
       "    </tr>\n",
       "    <tr>\n",
       "      <th>2025-04-29</th>\n",
       "      <td>68.333565</td>\n",
       "      <td>68.561743</td>\n",
       "      <td>67.430788</td>\n",
       "      <td>67.490309</td>\n",
       "      <td>8862800</td>\n",
       "    </tr>\n",
       "    <tr>\n",
       "      <th>2025-04-30</th>\n",
       "      <td>67.837532</td>\n",
       "      <td>68.115317</td>\n",
       "      <td>66.190705</td>\n",
       "      <td>66.974439</td>\n",
       "      <td>15756500</td>\n",
       "    </tr>\n",
       "  </tbody>\n",
       "</table>\n",
       "</div>"
      ]
     },
     "execution_count": 7,
     "metadata": {},
     "output_type": "execute_result"
    }
   ],
   "execution_count": 7
  },
  {
   "metadata": {
    "ExecuteTime": {
     "end_time": "2025-05-24T19:58:34.268180Z",
     "start_time": "2025-05-24T19:58:34.257514Z"
    }
   },
   "cell_type": "code",
   "source": "df_multi_index.columns",
   "id": "df0d1145b299f9bc",
   "outputs": [
    {
     "data": {
      "text/plain": [
       "MultiIndex([( 'Close', 'C'),\n",
       "            (  'High', 'C'),\n",
       "            (   'Low', 'C'),\n",
       "            (  'Open', 'C'),\n",
       "            ('Volume', 'C')],\n",
       "           names=['Price', 'Ticker'])"
      ]
     },
     "execution_count": 8,
     "metadata": {},
     "output_type": "execute_result"
    }
   ],
   "execution_count": 8
  },
  {
   "metadata": {},
   "cell_type": "code",
   "outputs": [],
   "execution_count": null,
   "source": "",
   "id": "46adf92d35e120b1"
  }
 ],
 "metadata": {
  "kernelspec": {
   "display_name": "Python 3",
   "language": "python",
   "name": "python3"
  },
  "language_info": {
   "codemirror_mode": {
    "name": "ipython",
    "version": 2
   },
   "file_extension": ".py",
   "mimetype": "text/x-python",
   "name": "python",
   "nbconvert_exporter": "python",
   "pygments_lexer": "ipython2",
   "version": "2.7.6"
  }
 },
 "nbformat": 4,
 "nbformat_minor": 5
}
